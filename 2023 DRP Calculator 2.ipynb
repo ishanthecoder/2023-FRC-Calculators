{
 "cells": [
  {
   "cell_type": "code",
   "execution_count": 1,
   "id": "efd8de54",
   "metadata": {},
   "outputs": [],
   "source": [
    "#Setup\n",
    "import scipy\n",
    "from scipy import special \n",
    "import math\n",
    "\n",
    "N= 32 # Number of Teams at event \n",
    "R= range(1, 32, 1) # Event Rank\n",
    "\n",
    "P = 0 #Pick order in alliance selection from 1 to 16, where 1 is the first pick of the first aliance and 16 is the second pick of the first alliance. \n",
    "#If Allaince Captain or not picked set P to 0. P can aproximated by R-6 for R>8, but this can be higly inaccurate \n",
    "F = 4 #Elim Finish from 1st through 4th or lower or set to 0 if N/A\n",
    "\n",
    "W = 1# How many 5 point awards won, if ten point award enter 2 and 1.6 for 8 point awards"
   ]
  },
  {
   "cell_type": "code",
   "execution_count": 2,
   "id": "e0edfae3",
   "metadata": {},
   "outputs": [],
   "source": [
    "#Math and Logic\n",
    "a= 1.07 # Constant, do not change\n",
    "A = 0# Alliance Selction points, starts at 0, do not change\n",
    "E = 0# Elimination points, starts at 0, do not change\n",
    "if F == 1 or F == 2:\n",
    "    E = (3-f)*10\n",
    "if F == 3:\n",
    "    E = 13\n",
    "if F == 4:\n",
    "    E = 7\n",
    "if F > 5 or F == 0:\n",
    "    E = 0   "
   ]
  },
  {
   "cell_type": "code",
   "execution_count": 3,
   "id": "0fb09d62",
   "metadata": {},
   "outputs": [
    {
     "name": "stdout",
     "output_type": "stream",
     "text": [
      "Currently not accounting for back up teams as that is not a valid strategy, please set P to a non zero value\n",
      "Assuming  32  Teams  Pick Order = 0 ,Elim finish= 4 ,and equivalent of 1 '5' points awards won.\n",
      " The only variable that changes is qualification rank.\n",
      " This is ovbiously innacurate for alliance capatains outside of their specifc rank.\n",
      "For rank= 1 ,DRP= 50\n",
      "For rank= 2 ,DRP= 48\n",
      "For rank= 3 ,DRP= 46\n",
      "For rank= 4 ,DRP= 44\n",
      "For rank= 5 ,DRP= 42\n",
      "For rank= 6 ,DRP= 40\n",
      "For rank= 7 ,DRP= 39\n",
      "For rank= 8 ,DRP= 37\n",
      "For rank= 9 ,DRP= 37\n",
      "For rank= 10 ,DRP= 36\n",
      "For rank= 11 ,DRP= 36\n",
      "For rank= 12 ,DRP= 36\n",
      "For rank= 13 ,DRP= 35\n",
      "For rank= 14 ,DRP= 35\n",
      "For rank= 15 ,DRP= 34\n",
      "For rank= 16 ,DRP= 34\n",
      "For rank= 17 ,DRP= 33\n",
      "For rank= 18 ,DRP= 33\n",
      "For rank= 19 ,DRP= 33\n",
      "For rank= 20 ,DRP= 32\n",
      "For rank= 21 ,DRP= 32\n",
      "For rank= 22 ,DRP= 31\n",
      "For rank= 23 ,DRP= 31\n",
      "For rank= 24 ,DRP= 31\n",
      "For rank= 25 ,DRP= 30\n",
      "For rank= 26 ,DRP= 30\n",
      "For rank= 27 ,DRP= 29\n",
      "For rank= 28 ,DRP= 29\n",
      "For rank= 29 ,DRP= 28\n",
      "For rank= 30 ,DRP= 27\n",
      "For rank= 31 ,DRP= 26\n"
     ]
    }
   ],
   "source": [
    "#print block\n",
    "if E > 0 and P == 0:\n",
    "    print (\"Currently not accounting for back up teams as that is not a valid strategy, please set P to a non zero value\")\n",
    "print (\"Assuming \",N,\" Teams\",\" Pick Order =\",P, \",Elim finish=\",F,\",and equivalent of\", W,\"'5' points awards won.\\n\", \"The only variable that changes is qualification rank.\\n\",\"This is ovbiously innacurate for alliance capatains outside of their specifc rank.\")\n",
    "for r in R:\n",
    "    if r <= 8:\n",
    "        P = 0\n",
    "        A = 17-r\n",
    "        \n",
    "    if r >8 and P > 0:\n",
    "        A = 17-P\n",
    "\n",
    "    InvERF = scipy.special.erfinv((N-(2*r)+2)/(a*N)) #Table 11-5 math\n",
    "    Clause2 = (10/scipy.special.erfinv(1/a)) #Table 11-5 math\n",
    "    DRP = math.ceil(InvERF*Clause2+12)+A+E+(5*W) #Table 11-5 math\n",
    "    \n",
    "    print (\"For rank=\",r,\",DRP=\",DRP)\n"
   ]
  },
  {
   "cell_type": "code",
   "execution_count": null,
   "id": "9c5d98ea",
   "metadata": {},
   "outputs": [],
   "source": []
  }
 ],
 "metadata": {
  "kernelspec": {
   "display_name": "Python 3 (ipykernel)",
   "language": "python",
   "name": "python3"
  },
  "language_info": {
   "codemirror_mode": {
    "name": "ipython",
    "version": 3
   },
   "file_extension": ".py",
   "mimetype": "text/x-python",
   "name": "python",
   "nbconvert_exporter": "python",
   "pygments_lexer": "ipython3",
   "version": "3.8.13"
  }
 },
 "nbformat": 4,
 "nbformat_minor": 5
}
